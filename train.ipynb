{
 "cells": [
  {
   "attachments": {},
   "cell_type": "markdown",
   "metadata": {},
   "source": [
    "## Imports are necessary"
   ]
  },
  {
   "cell_type": "code",
   "execution_count": 1,
   "metadata": {},
   "outputs": [],
   "source": [
    "import datetime\n",
    "\n",
    "import torch\n",
    "import torch.utils.data\n",
    "\n",
    "from torch.optim.lr_scheduler import StepLR\n",
    "from torch.optim import SGD\n",
    "\n",
    "import torchvision\n",
    "from torchvision.models.detection.faster_rcnn import FastRCNNPredictor\n",
    "from torchvision.models.detection.mask_rcnn import MaskRCNNPredictor, MaskRCNN_ResNet50_FPN_Weights\n",
    "\n",
    "from _engine import train_one_epoch, evaluate\n",
    "import _transforms as T\n",
    "import _utils as utils"
   ]
  },
  {
   "attachments": {},
   "cell_type": "markdown",
   "metadata": {},
   "source": [
    "## Root Folder Path (Change according to your need)"
   ]
  },
  {
   "cell_type": "code",
   "execution_count": 2,
   "metadata": {},
   "outputs": [],
   "source": [
    "root_path = '/home/aghosh57/Kerner-Lab/maskrcnn-rpn/dataset/'"
   ]
  },
  {
   "attachments": {},
   "cell_type": "markdown",
   "metadata": {},
   "source": [
    "## Import Dataset Structure"
   ]
  },
  {
   "cell_type": "code",
   "execution_count": 3,
   "metadata": {},
   "outputs": [],
   "source": [
    "from _dataset import ParcelDataset"
   ]
  },
  {
   "attachments": {},
   "cell_type": "markdown",
   "metadata": {},
   "source": [
    "## Some utility Functions"
   ]
  },
  {
   "cell_type": "code",
   "execution_count": 4,
   "metadata": {},
   "outputs": [],
   "source": [
    "def get_transform(train):\n",
    "    transforms = []\n",
    "    # converts the image, a PIL image, into a PyTorch Tensor\n",
    "    transforms.append(T.ToTensor())\n",
    "    if train:\n",
    "        # during training, randomly flip the training images\n",
    "        # and ground-truth for data augmentation\n",
    "        transforms.append(T.RandomHorizontalFlip(0.5))\n",
    "    return T.Compose(transforms)"
   ]
  },
  {
   "attachments": {},
   "cell_type": "markdown",
   "metadata": {},
   "source": [
    "##  Build the Model (Function)"
   ]
  },
  {
   "cell_type": "code",
   "execution_count": 5,
   "metadata": {},
   "outputs": [],
   "source": [
    "def get_instance_segmentation_model(num_classes):\n",
    "    # load an instance segmentation model pre-trained on COCO\n",
    "    model = torchvision.models.detection.maskrcnn_resnet50_fpn(weights=MaskRCNN_ResNet50_FPN_Weights.DEFAULT)\n",
    "\n",
    "    # get the number of input features for the classifier\n",
    "    in_features = model.roi_heads.box_predictor.cls_score.in_features\n",
    "    # replace the pre-trained head with a new one\n",
    "    model.roi_heads.box_predictor = FastRCNNPredictor(in_features, num_classes)\n",
    "\n",
    "    # now get the number of input features for the mask classifier\n",
    "    in_features_mask = model.roi_heads.mask_predictor.conv5_mask.in_channels\n",
    "    hidden_layer = 256\n",
    "    # and replace the mask predictor with a new one\n",
    "    model.roi_heads.mask_predictor = MaskRCNNPredictor(in_features_mask, hidden_layer, num_classes)\n",
    "\n",
    "    return model"
   ]
  },
  {
   "attachments": {},
   "cell_type": "markdown",
   "metadata": {},
   "source": [
    "## Hyperparameters"
   ]
  },
  {
   "cell_type": "code",
   "execution_count": 6,
   "metadata": {},
   "outputs": [],
   "source": [
    "TRAIN_BATCH_SIZE = 16\n",
    "TEST_BATCH_SIZE = 2\n",
    "\n",
    "NUM_WORKERS = 4\n",
    "\n",
    "LEARNING_RATE = 0.005\n",
    "MOMENTUM = 0.9\n",
    "WEIGHT_DECAY = 0.0005\n",
    "\n",
    "STEP_SIZE = 3\n",
    "GAMMA = 0.1\n",
    "\n",
    "NUM_EPOCHS = 1\n",
    "\n",
    "NUM_CLASSES = 2 #Background and Foreground"
   ]
  },
  {
   "attachments": {},
   "cell_type": "markdown",
   "metadata": {},
   "source": [
    "## Set the device & Clear Cache"
   ]
  },
  {
   "cell_type": "code",
   "execution_count": 7,
   "metadata": {},
   "outputs": [],
   "source": [
    "torch.cuda.empty_cache()\n",
    "device = torch.device('cuda') if torch.cuda.is_available() else torch.device('cpu')"
   ]
  },
  {
   "attachments": {},
   "cell_type": "markdown",
   "metadata": {},
   "source": [
    "## Build the dataset and generate the dataloaders"
   ]
  },
  {
   "cell_type": "code",
   "execution_count": 8,
   "metadata": {},
   "outputs": [],
   "source": [
    "# use our dataset and defined transformations\n",
    "dataset = ParcelDataset(root_path, get_transform(train=True))\n",
    "dataset_test = ParcelDataset(root_path, get_transform(train=False))\n",
    "\n",
    "# split the dataset in train and test set\n",
    "torch.manual_seed(1)\n",
    "indices = torch.randperm(len(dataset)).tolist()\n",
    "dataset = torch.utils.data.Subset(dataset, indices[:-50])\n",
    "dataset_test = torch.utils.data.Subset(dataset_test, indices[-50:])\n",
    "\n",
    "# define training and validation data loaders\n",
    "data_loader = torch.utils.data.DataLoader(\n",
    "    dataset, batch_size=TRAIN_BATCH_SIZE, shuffle=True, num_workers=NUM_WORKERS,\n",
    "    collate_fn=utils.collate_fn)\n",
    "\n",
    "data_loader_test = torch.utils.data.DataLoader(\n",
    "    dataset_test, batch_size=TEST_BATCH_SIZE, shuffle=False, num_workers=NUM_WORKERS,\n",
    "    collate_fn=utils.collate_fn)"
   ]
  },
  {
   "attachments": {},
   "cell_type": "markdown",
   "metadata": {},
   "source": [
    "## Model, Optimizer & LR Schedular"
   ]
  },
  {
   "cell_type": "code",
   "execution_count": 9,
   "metadata": {},
   "outputs": [],
   "source": [
    "# get the model using our helper function\n",
    "rpn_model = get_instance_segmentation_model(NUM_CLASSES)\n",
    "# move model to the right device\n",
    "rpn_model.to(device)\n",
    "\n",
    "# construct an optimizer\n",
    "params = [p for p in rpn_model.parameters() if p.requires_grad]\n",
    "optimizer = SGD(params, lr=LEARNING_RATE, momentum=MOMENTUM, weight_decay=WEIGHT_DECAY)\n",
    "\n",
    "# and a learning rate scheduler which decreases the learning rate by\n",
    "# 10x every 3 epochs\n",
    "lr_scheduler = StepLR(optimizer, step_size=STEP_SIZE, gamma=GAMMA)"
   ]
  },
  {
   "attachments": {},
   "cell_type": "markdown",
   "metadata": {},
   "source": [
    "## Training & Evaluation"
   ]
  },
  {
   "cell_type": "code",
   "execution_count": 10,
   "metadata": {},
   "outputs": [
    {
     "name": "stdout",
     "output_type": "stream",
     "text": [
      "Epoch: [0]  [  0/401]  eta: 0:16:34  lr: 0.000017  loss: 8.1094 (8.1094)  loss_classifier: 0.6765 (0.6765)  loss_box_reg: 0.8597 (0.8597)  loss_mask: 2.5982 (2.5982)  loss_objectness: 3.7684 (3.7684)  loss_rpn_box_reg: 0.2067 (0.2067)  time: 2.4812  data: 0.6632  max mem: 14604\n",
      "Epoch: [0]  [ 10/401]  eta: 0:04:39  lr: 0.000142  loss: 6.2139 (5.9833)  loss_classifier: 0.6529 (0.6440)  loss_box_reg: 0.7336 (0.7294)  loss_mask: 1.6778 (1.8192)  loss_objectness: 2.4908 (2.5611)  loss_rpn_box_reg: 0.2113 (0.2296)  time: 0.7141  data: 0.0885  max mem: 14604\n",
      "Epoch: [0]  [ 20/401]  eta: 0:03:59  lr: 0.000267  loss: 3.6852 (4.5511)  loss_classifier: 0.5755 (0.5843)  loss_box_reg: 0.7234 (0.7252)  loss_mask: 1.2092 (1.3835)  loss_objectness: 0.9519 (1.6359)  loss_rpn_box_reg: 0.2020 (0.2222)  time: 0.5366  data: 0.0303  max mem: 14604\n",
      "Epoch: [0]  [ 30/401]  eta: 0:03:42  lr: 0.000392  loss: 2.5032 (3.8464)  loss_classifier: 0.4961 (0.5534)  loss_box_reg: 0.7206 (0.7111)  loss_mask: 0.6042 (1.1212)  loss_objectness: 0.4953 (1.2435)  loss_rpn_box_reg: 0.2020 (0.2173)  time: 0.5364  data: 0.0296  max mem: 14604\n",
      "Epoch: [0]  [ 40/401]  eta: 0:03:31  lr: 0.000517  loss: 2.2790 (3.4540)  loss_classifier: 0.4714 (0.5315)  loss_box_reg: 0.7097 (0.7110)  loss_mask: 0.5296 (0.9690)  loss_objectness: 0.3654 (1.0268)  loss_rpn_box_reg: 0.2035 (0.2157)  time: 0.5378  data: 0.0297  max mem: 14604\n",
      "Epoch: [0]  [ 50/401]  eta: 0:03:21  lr: 0.000642  loss: 2.1652 (3.1889)  loss_classifier: 0.4424 (0.5108)  loss_box_reg: 0.7072 (0.7064)  loss_mask: 0.4727 (0.8710)  loss_objectness: 0.3237 (0.8852)  loss_rpn_box_reg: 0.2058 (0.2156)  time: 0.5370  data: 0.0288  max mem: 14604\n",
      "Epoch: [0]  [ 60/401]  eta: 0:03:14  lr: 0.000767  loss: 2.1023 (3.0024)  loss_classifier: 0.4211 (0.4944)  loss_box_reg: 0.6877 (0.7030)  loss_mask: 0.4587 (0.8025)  loss_objectness: 0.2890 (0.7884)  loss_rpn_box_reg: 0.1995 (0.2141)  time: 0.5373  data: 0.0284  max mem: 14734\n",
      "Epoch: [0]  [ 70/401]  eta: 0:03:07  lr: 0.000892  loss: 1.9699 (2.8445)  loss_classifier: 0.4001 (0.4790)  loss_box_reg: 0.6575 (0.6917)  loss_mask: 0.4420 (0.7509)  loss_objectness: 0.2876 (0.7167)  loss_rpn_box_reg: 0.1789 (0.2062)  time: 0.5399  data: 0.0317  max mem: 14734\n",
      "Epoch: [0]  [ 80/401]  eta: 0:03:00  lr: 0.001016  loss: 1.8787 (2.7242)  loss_classifier: 0.3792 (0.4658)  loss_box_reg: 0.6110 (0.6796)  loss_mask: 0.4291 (0.7116)  loss_objectness: 0.2822 (0.6630)  loss_rpn_box_reg: 0.1807 (0.2041)  time: 0.5398  data: 0.0314  max mem: 14734\n",
      "Epoch: [0]  [ 90/401]  eta: 0:02:53  lr: 0.001141  loss: 1.8651 (2.6285)  loss_classifier: 0.3619 (0.4544)  loss_box_reg: 0.5923 (0.6673)  loss_mask: 0.4314 (0.6810)  loss_objectness: 0.2826 (0.6220)  loss_rpn_box_reg: 0.1902 (0.2037)  time: 0.5372  data: 0.0280  max mem: 14734\n",
      "Epoch: [0]  [100/401]  eta: 0:02:47  lr: 0.001266  loss: 1.8078 (2.5465)  loss_classifier: 0.3597 (0.4455)  loss_box_reg: 0.5515 (0.6561)  loss_mask: 0.4272 (0.6554)  loss_objectness: 0.2780 (0.5877)  loss_rpn_box_reg: 0.1846 (0.2018)  time: 0.5412  data: 0.0279  max mem: 14734\n",
      "Epoch: [0]  [110/401]  eta: 0:02:41  lr: 0.001391  loss: 1.7680 (2.4762)  loss_classifier: 0.3633 (0.4382)  loss_box_reg: 0.5460 (0.6451)  loss_mask: 0.4190 (0.6342)  loss_objectness: 0.2645 (0.5585)  loss_rpn_box_reg: 0.1774 (0.2001)  time: 0.5462  data: 0.0281  max mem: 14734\n",
      "Epoch: [0]  [120/401]  eta: 0:02:36  lr: 0.001516  loss: 1.7094 (2.4132)  loss_classifier: 0.3607 (0.4318)  loss_box_reg: 0.5214 (0.6341)  loss_mask: 0.4151 (0.6158)  loss_objectness: 0.2592 (0.5339)  loss_rpn_box_reg: 0.1624 (0.1976)  time: 0.5464  data: 0.0283  max mem: 14870\n",
      "Epoch: [0]  [130/401]  eta: 0:02:30  lr: 0.001641  loss: 1.6542 (2.3561)  loss_classifier: 0.3519 (0.4257)  loss_box_reg: 0.4991 (0.6231)  loss_mask: 0.4067 (0.5991)  loss_objectness: 0.2501 (0.5126)  loss_rpn_box_reg: 0.1670 (0.1955)  time: 0.5441  data: 0.0283  max mem: 14870\n",
      "Epoch: [0]  [140/401]  eta: 0:02:24  lr: 0.001766  loss: 1.6789 (2.3086)  loss_classifier: 0.3594 (0.4211)  loss_box_reg: 0.4904 (0.6155)  loss_mask: 0.3983 (0.5850)  loss_objectness: 0.2449 (0.4935)  loss_rpn_box_reg: 0.1670 (0.1935)  time: 0.5430  data: 0.0286  max mem: 14870\n",
      "Epoch: [0]  [150/401]  eta: 0:02:18  lr: 0.001891  loss: 1.6351 (2.2616)  loss_classifier: 0.3509 (0.4157)  loss_box_reg: 0.4929 (0.6066)  loss_mask: 0.3977 (0.5723)  loss_objectness: 0.2420 (0.4763)  loss_rpn_box_reg: 0.1540 (0.1907)  time: 0.5410  data: 0.0284  max mem: 14870\n",
      "Epoch: [0]  [160/401]  eta: 0:02:13  lr: 0.002015  loss: 1.6407 (2.2263)  loss_classifier: 0.3476 (0.4119)  loss_box_reg: 0.4807 (0.5995)  loss_mask: 0.3976 (0.5620)  loss_objectness: 0.2468 (0.4630)  loss_rpn_box_reg: 0.1538 (0.1898)  time: 0.5393  data: 0.0277  max mem: 14870\n",
      "Epoch: [0]  [170/401]  eta: 0:02:07  lr: 0.002140  loss: 1.6407 (2.1913)  loss_classifier: 0.3497 (0.4081)  loss_box_reg: 0.4799 (0.5923)  loss_mask: 0.4057 (0.5528)  loss_objectness: 0.2343 (0.4494)  loss_rpn_box_reg: 0.1630 (0.1887)  time: 0.5413  data: 0.0278  max mem: 14870\n",
      "Epoch: [0]  [180/401]  eta: 0:02:01  lr: 0.002265  loss: 1.6136 (2.1614)  loss_classifier: 0.3526 (0.4052)  loss_box_reg: 0.4816 (0.5864)  loss_mask: 0.3917 (0.5435)  loss_objectness: 0.2267 (0.4380)  loss_rpn_box_reg: 0.1630 (0.1884)  time: 0.5443  data: 0.0283  max mem: 14870\n",
      "Epoch: [0]  [190/401]  eta: 0:01:56  lr: 0.002390  loss: 1.6223 (2.1345)  loss_classifier: 0.3504 (0.4018)  loss_box_reg: 0.4847 (0.5813)  loss_mask: 0.3898 (0.5359)  loss_objectness: 0.2346 (0.4277)  loss_rpn_box_reg: 0.1621 (0.1877)  time: 0.5470  data: 0.0286  max mem: 14870\n",
      "Epoch: [0]  [200/401]  eta: 0:01:50  lr: 0.002515  loss: 1.6151 (2.1097)  loss_classifier: 0.3487 (0.3995)  loss_box_reg: 0.4846 (0.5758)  loss_mask: 0.3951 (0.5288)  loss_objectness: 0.2355 (0.4184)  loss_rpn_box_reg: 0.1551 (0.1872)  time: 0.5445  data: 0.0283  max mem: 14870\n",
      "Epoch: [0]  [210/401]  eta: 0:01:45  lr: 0.002640  loss: 1.6151 (2.0865)  loss_classifier: 0.3565 (0.3969)  loss_box_reg: 0.4805 (0.5711)  loss_mask: 0.3884 (0.5222)  loss_objectness: 0.2243 (0.4095)  loss_rpn_box_reg: 0.1518 (0.1868)  time: 0.5423  data: 0.0279  max mem: 14870\n",
      "Epoch: [0]  [220/401]  eta: 0:01:39  lr: 0.002765  loss: 1.5676 (2.0603)  loss_classifier: 0.3306 (0.3933)  loss_box_reg: 0.4496 (0.5653)  loss_mask: 0.3804 (0.5157)  loss_objectness: 0.2187 (0.4007)  loss_rpn_box_reg: 0.1412 (0.1853)  time: 0.5381  data: 0.0280  max mem: 14870\n",
      "Epoch: [0]  [230/401]  eta: 0:01:33  lr: 0.002890  loss: 1.4993 (2.0377)  loss_classifier: 0.3214 (0.3907)  loss_box_reg: 0.4472 (0.5607)  loss_mask: 0.3743 (0.5100)  loss_objectness: 0.2203 (0.3929)  loss_rpn_box_reg: 0.1412 (0.1834)  time: 0.5355  data: 0.0281  max mem: 14870\n",
      "Epoch: [0]  [240/401]  eta: 0:01:28  lr: 0.003014  loss: 1.5619 (2.0181)  loss_classifier: 0.3276 (0.3885)  loss_box_reg: 0.4571 (0.5569)  loss_mask: 0.3892 (0.5052)  loss_objectness: 0.2043 (0.3855)  loss_rpn_box_reg: 0.1477 (0.1821)  time: 0.5397  data: 0.0280  max mem: 14870\n",
      "Epoch: [0]  [250/401]  eta: 0:01:22  lr: 0.003139  loss: 1.5413 (1.9994)  loss_classifier: 0.3345 (0.3863)  loss_box_reg: 0.4691 (0.5530)  loss_mask: 0.3823 (0.5000)  loss_objectness: 0.2035 (0.3791)  loss_rpn_box_reg: 0.1510 (0.1811)  time: 0.5454  data: 0.0282  max mem: 14870\n",
      "Epoch: [0]  [260/401]  eta: 0:01:17  lr: 0.003264  loss: 1.5808 (1.9862)  loss_classifier: 0.3411 (0.3852)  loss_box_reg: 0.4676 (0.5498)  loss_mask: 0.3799 (0.4956)  loss_objectness: 0.2457 (0.3742)  loss_rpn_box_reg: 0.1738 (0.1813)  time: 0.5625  data: 0.0302  max mem: 14870\n",
      "Epoch: [0]  [270/401]  eta: 0:01:12  lr: 0.003389  loss: 1.6145 (1.9729)  loss_classifier: 0.3457 (0.3836)  loss_box_reg: 0.4676 (0.5472)  loss_mask: 0.3802 (0.4916)  loss_objectness: 0.2355 (0.3693)  loss_rpn_box_reg: 0.1837 (0.1812)  time: 0.5764  data: 0.0324  max mem: 14870\n",
      "Epoch: [0]  [280/401]  eta: 0:01:06  lr: 0.003514  loss: 1.5596 (1.9570)  loss_classifier: 0.3342 (0.3819)  loss_box_reg: 0.4681 (0.5441)  loss_mask: 0.3720 (0.4872)  loss_objectness: 0.2234 (0.3639)  loss_rpn_box_reg: 0.1383 (0.1799)  time: 0.5749  data: 0.0322  max mem: 14870\n",
      "Epoch: [0]  [290/401]  eta: 0:01:01  lr: 0.003639  loss: 1.5618 (1.9454)  loss_classifier: 0.3415 (0.3807)  loss_box_reg: 0.4536 (0.5413)  loss_mask: 0.3663 (0.4834)  loss_objectness: 0.2275 (0.3599)  loss_rpn_box_reg: 0.1544 (0.1801)  time: 0.5647  data: 0.0329  max mem: 14870\n",
      "Epoch: [0]  [300/401]  eta: 0:00:55  lr: 0.003764  loss: 1.6015 (1.9341)  loss_classifier: 0.3415 (0.3791)  loss_box_reg: 0.4557 (0.5388)  loss_mask: 0.3770 (0.4802)  loss_objectness: 0.2354 (0.3558)  loss_rpn_box_reg: 0.1871 (0.1803)  time: 0.5610  data: 0.0312  max mem: 14870\n",
      "Epoch: [0]  [310/401]  eta: 0:00:50  lr: 0.003889  loss: 1.5886 (1.9219)  loss_classifier: 0.3288 (0.3774)  loss_box_reg: 0.4490 (0.5358)  loss_mask: 0.3764 (0.4769)  loss_objectness: 0.2301 (0.3520)  loss_rpn_box_reg: 0.1825 (0.1799)  time: 0.5571  data: 0.0280  max mem: 14870\n",
      "Epoch: [0]  [320/401]  eta: 0:00:44  lr: 0.004013  loss: 1.4922 (1.9084)  loss_classifier: 0.3180 (0.3757)  loss_box_reg: 0.4240 (0.5325)  loss_mask: 0.3706 (0.4734)  loss_objectness: 0.2194 (0.3478)  loss_rpn_box_reg: 0.1415 (0.1789)  time: 0.5477  data: 0.0275  max mem: 14870\n",
      "Epoch: [0]  [330/401]  eta: 0:00:39  lr: 0.004138  loss: 1.4893 (1.8971)  loss_classifier: 0.3161 (0.3744)  loss_box_reg: 0.4362 (0.5299)  loss_mask: 0.3728 (0.4705)  loss_objectness: 0.2176 (0.3439)  loss_rpn_box_reg: 0.1376 (0.1784)  time: 0.5475  data: 0.0280  max mem: 14870\n",
      "Epoch: [0]  [340/401]  eta: 0:00:33  lr: 0.004263  loss: 1.5292 (1.8863)  loss_classifier: 0.3266 (0.3730)  loss_box_reg: 0.4434 (0.5274)  loss_mask: 0.3743 (0.4676)  loss_objectness: 0.2176 (0.3402)  loss_rpn_box_reg: 0.1483 (0.1780)  time: 0.5472  data: 0.0280  max mem: 14870\n",
      "Epoch: [0]  [350/401]  eta: 0:00:28  lr: 0.004388  loss: 1.5028 (1.8749)  loss_classifier: 0.3276 (0.3718)  loss_box_reg: 0.4450 (0.5250)  loss_mask: 0.3671 (0.4649)  loss_objectness: 0.2098 (0.3364)  loss_rpn_box_reg: 0.1462 (0.1767)  time: 0.5465  data: 0.0278  max mem: 14870\n",
      "Epoch: [0]  [360/401]  eta: 0:00:22  lr: 0.004513  loss: 1.5127 (1.8676)  loss_classifier: 0.3400 (0.3711)  loss_box_reg: 0.4489 (0.5234)  loss_mask: 0.3629 (0.4623)  loss_objectness: 0.2135 (0.3339)  loss_rpn_box_reg: 0.1445 (0.1769)  time: 0.5477  data: 0.0284  max mem: 14870\n",
      "Epoch: [0]  [370/401]  eta: 0:00:17  lr: 0.004638  loss: 1.5626 (1.8591)  loss_classifier: 0.3421 (0.3701)  loss_box_reg: 0.4550 (0.5215)  loss_mask: 0.3694 (0.4598)  loss_objectness: 0.2268 (0.3309)  loss_rpn_box_reg: 0.1761 (0.1769)  time: 0.5476  data: 0.0290  max mem: 14870\n",
      "Epoch: [0]  [380/401]  eta: 0:00:11  lr: 0.004763  loss: 1.4963 (1.8490)  loss_classifier: 0.3289 (0.3689)  loss_box_reg: 0.4464 (0.5195)  loss_mask: 0.3626 (0.4573)  loss_objectness: 0.2098 (0.3274)  loss_rpn_box_reg: 0.1366 (0.1758)  time: 0.5446  data: 0.0290  max mem: 14870\n",
      "Epoch: [0]  [390/401]  eta: 0:00:06  lr: 0.004888  loss: 1.4963 (1.8419)  loss_classifier: 0.3261 (0.3679)  loss_box_reg: 0.4446 (0.5175)  loss_mask: 0.3554 (0.4547)  loss_objectness: 0.2083 (0.3254)  loss_rpn_box_reg: 0.1629 (0.1764)  time: 0.5460  data: 0.0287  max mem: 14870\n",
      "Epoch: [0]  [400/401]  eta: 0:00:00  lr: 0.005000  loss: 1.5477 (1.8355)  loss_classifier: 0.3196 (0.3668)  loss_box_reg: 0.4245 (0.5153)  loss_mask: 0.3538 (0.4526)  loss_objectness: 0.2374 (0.3238)  loss_rpn_box_reg: 0.1914 (0.1769)  time: 0.5267  data: 0.0277  max mem: 14870\n",
      "Epoch: [0] Total time: 0:03:40 (0.5501 s / it)\n",
      "creating index...\n",
      "index created!\n",
      "Test:  [ 0/25]  eta: 0:00:14  model_time: 0.2162 (0.2162)  evaluator_time: 0.1536 (0.1536)  time: 0.5669  data: 0.1947  max mem: 14870\n"
     ]
    }
   ],
   "source": [
    "for epoch in range(NUM_EPOCHS):\n",
    "    # train for one epoch, printing every 10 iterations\n",
    "    train_one_epoch(rpn_model, optimizer, data_loader, device, epoch, print_freq=10)\n",
    "    \n",
    "    # update the learning rate\n",
    "    lr_scheduler.step()\n",
    "    \n",
    "    # evaluate on the test dataset\n",
    "    evaluate(rpn_model, data_loader_test, device=device)\n",
    "\n",
    "    torch.cuda.empty_cache()\n",
    "\n",
    "# save model with timestamp as name\n",
    "torch.save(rpn_model.state_dict(), \"rpn_model_\" + str(datetime.datetime.now()) + \".pth\")    "
   ]
  }
 ],
 "metadata": {
  "kernelspec": {
   "display_name": "Python 3",
   "language": "python",
   "name": "python3"
  },
  "language_info": {
   "codemirror_mode": {
    "name": "ipython",
    "version": 3
   },
   "file_extension": ".py",
   "mimetype": "text/x-python",
   "name": "python",
   "nbconvert_exporter": "python",
   "pygments_lexer": "ipython3",
   "version": "3.9.17"
  },
  "orig_nbformat": 4
 },
 "nbformat": 4,
 "nbformat_minor": 2
}
